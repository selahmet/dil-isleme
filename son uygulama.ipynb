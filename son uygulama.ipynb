{
 "cells": [
  {
   "cell_type": "code",
   "execution_count": 1,
   "id": "moving-stopping",
   "metadata": {},
   "outputs": [],
   "source": [
    "import pandas as pd\n",
    "import re\n",
    "from textblob import TextBlob\n",
    "import matplotlib.pyplot as plt\n",
    "import numpy as np\n",
    "import itertools\n",
    "import collections\n",
    "import nltk\n",
    "from nltk import bigrams\n",
    "import networkx as nx"
   ]
  },
  {
   "cell_type": "code",
   "execution_count": 58,
   "id": "necessary-variation",
   "metadata": {},
   "outputs": [
    {
     "name": "stdout",
     "output_type": "stream",
     "text": [
      "                                                   tweet\n",
      "0      @zzzordem @ tolgaozcelkk90 because it ends wit...\n",
      "1      Korona also let us know the number of our non-...\n",
      "2      I graduated this year without ever seriously b...\n",
      "3      @Newrozd @ jin_jiyane2121 after they go to bed...\n",
      "4      Thanks to our students @ajanssp Example was it...\n",
      "...                                                  ...\n",
      "88736  60-year-old choir of 155 days after the patien...\n",
      "88737  I look, I see many books now @pastdelusio the ...\n",
      "88738  What was the runny noses plugged @handel Mask ...\n",
      "88739  3 doctors girlfriend was 2 times corona,\\nI Co...\n",
      "88740  @feyzasays @bulutgulc Who he says no, but she ...\n",
      "\n",
      "[88741 rows x 1 columns]\n"
     ]
    }
   ],
   "source": [
    "tweets = pd.read_csv('C:/Users/ACER/12 - 12.csv', engine=\"python\", sep=',', quotechar='\"', error_bad_lines=False)\n",
    "print(tweets)"
   ]
  },
  {
   "cell_type": "code",
   "execution_count": 3,
   "id": "frozen-experience",
   "metadata": {},
   "outputs": [
    {
     "name": "stdout",
     "output_type": "stream",
     "text": [
      "0        [I think the process of Covidien-19 and pandem...\n",
      "1        [@canan_erk @h_cilogl of the total number of d...\n",
      "2        [Ztn was my grandmother's corona test was posi...\n",
      "3              [@sinirlibirii would not have Korona sksk😂]\n",
      "4        [He put the mask **\\n\"These countries are hidi...\n",
      "                               ...                        \n",
      "95649    [Kovid-19 test was made 115 thousand 523 in Tu...\n",
      "95650    [Covidien our health in the process of countin...\n",
      "95651    [___ @ 1kubr the following corona came over wi...\n",
      "95652                    [Able to get what you Covidien O]\n",
      "95653    [This corona vaccine began to be used in human...\n",
      "Name: tweet, Length: 95654, dtype: object\n"
     ]
    }
   ],
   "source": [
    "tweet= tweets[\"tweet\"].str.split(',')\n",
    "print (tweet)"
   ]
  },
  {
   "cell_type": "code",
   "execution_count": 4,
   "id": "blessed-memorial",
   "metadata": {},
   "outputs": [],
   "source": [
    "#urel kaldırma\n",
    "\n",
    "def remove_url(txt):\n",
    "    \"\"\"Replace URLs found in a text string with nothing \n",
    "    (i.e. it will remove the URL from the string).\n",
    "\n",
    "    Parameters\n",
    "    ----------\n",
    "    txt : string\n",
    "        A text string that you want to parse and remove urls.\n",
    "\n",
    "    Returns\n",
    "    -------\n",
    "    The same txt string with url's removed.\n",
    "    \"\"\"\n",
    "\n",
    "    return \" \".join(re.sub(\"([^0-9A-Za-z \\t])|(\\w+:\\/\\/\\S+)\", \"\", str(txt)).split())"
   ]
  },
  {
   "cell_type": "code",
   "execution_count": 5,
   "id": "interracial-knight",
   "metadata": {},
   "outputs": [
    {
     "data": {
      "text/plain": [
       "['I think the process of Covidien19 and pandemic exaggerated After that things in the world are waiting Overreaction caused by economic crisis unemployment and despair arising from occurring',\n",
       " 'cananerk hcilogl of the total number of deaths in 2019 in bulundurup into account the increase in population 2020 Corona Corona external measurement of these deaths completely',\n",
       " 'Ztn was my grandmothers corona test was positive in the positive for now my grandparents',\n",
       " 'sinirlibirii would not have Korona sksk',\n",
       " 'He put the mask nThese countries are hiding there in the choir you think you here that the choir OCD summit already had my scarf off my nose with my hand gloves direct mouth']"
      ]
     },
     "execution_count": 5,
     "metadata": {},
     "output_type": "execute_result"
    }
   ],
   "source": [
    "#url kaldırılmış halini çağırma\n",
    "\n",
    "all_tweets_no_urls = [remove_url(tweet) for tweet in tweet]\n",
    "all_tweets_no_urls[:5]"
   ]
  },
  {
   "cell_type": "code",
   "execution_count": 6,
   "id": "intimate-buddy",
   "metadata": {},
   "outputs": [
    {
     "data": {
      "text/plain": [
       "(-0.15,\n",
       " TextBlob(\"I think the process of Covidien19 and pandemic exaggerated After that things in the world are waiting Overreaction caused by economic crisis unemployment and despair arising from occurring\"))"
      ]
     },
     "execution_count": 6,
     "metadata": {},
     "output_type": "execute_result"
    }
   ],
   "source": [
    "# Create textblob objects of the tweets\n",
    "sentiment_objects = [TextBlob(tweet) for tweet in all_tweets_no_urls]\n",
    "\n",
    "sentiment_objects[0].polarity, sentiment_objects[0]"
   ]
  },
  {
   "cell_type": "code",
   "execution_count": 7,
   "id": "intelligent-principal",
   "metadata": {},
   "outputs": [
    {
     "data": {
      "text/plain": [
       "[-0.15,\n",
       " 'I think the process of Covidien19 and pandemic exaggerated After that things in the world are waiting Overreaction caused by economic crisis unemployment and despair arising from occurring']"
      ]
     },
     "execution_count": 7,
     "metadata": {},
     "output_type": "execute_result"
    }
   ],
   "source": [
    "# Create list of polarity valuesx and tweet text\n",
    "sentiment_values = [[tweet.sentiment.polarity, str(tweet)] for tweet in sentiment_objects]\n",
    "\n",
    "sentiment_values[0]"
   ]
  },
  {
   "cell_type": "code",
   "execution_count": 8,
   "id": "moved-ordinance",
   "metadata": {},
   "outputs": [
    {
     "data": {
      "text/html": [
       "<div>\n",
       "<style scoped>\n",
       "    .dataframe tbody tr th:only-of-type {\n",
       "        vertical-align: middle;\n",
       "    }\n",
       "\n",
       "    .dataframe tbody tr th {\n",
       "        vertical-align: top;\n",
       "    }\n",
       "\n",
       "    .dataframe thead th {\n",
       "        text-align: right;\n",
       "    }\n",
       "</style>\n",
       "<table border=\"1\" class=\"dataframe\">\n",
       "  <thead>\n",
       "    <tr style=\"text-align: right;\">\n",
       "      <th></th>\n",
       "      <th>polarity</th>\n",
       "      <th>tweet</th>\n",
       "    </tr>\n",
       "  </thead>\n",
       "  <tbody>\n",
       "    <tr>\n",
       "      <th>0</th>\n",
       "      <td>-0.150000</td>\n",
       "      <td>I think the process of Covidien19 and pandemic...</td>\n",
       "    </tr>\n",
       "    <tr>\n",
       "      <th>1</th>\n",
       "      <td>0.033333</td>\n",
       "      <td>cananerk hcilogl of the total number of deaths...</td>\n",
       "    </tr>\n",
       "    <tr>\n",
       "      <th>2</th>\n",
       "      <td>0.227273</td>\n",
       "      <td>Ztn was my grandmothers corona test was positi...</td>\n",
       "    </tr>\n",
       "    <tr>\n",
       "      <th>3</th>\n",
       "      <td>0.000000</td>\n",
       "      <td>sinirlibirii would not have Korona sksk</td>\n",
       "    </tr>\n",
       "    <tr>\n",
       "      <th>4</th>\n",
       "      <td>0.100000</td>\n",
       "      <td>He put the mask nThese countries are hiding th...</td>\n",
       "    </tr>\n",
       "    <tr>\n",
       "      <th>5</th>\n",
       "      <td>0.100000</td>\n",
       "      <td>ntv not correspond to how old they did in beat...</td>\n",
       "    </tr>\n",
       "    <tr>\n",
       "      <th>6</th>\n",
       "      <td>0.025000</td>\n",
       "      <td>What can you do that ahp Pendik astronotken ar...</td>\n",
       "    </tr>\n",
       "    <tr>\n",
       "      <th>7</th>\n",
       "      <td>0.045455</td>\n",
       "      <td>Is it enough to tell the second largest portio...</td>\n",
       "    </tr>\n",
       "    <tr>\n",
       "      <th>8</th>\n",
       "      <td>0.000000</td>\n",
       "      <td>Turkeys corona Table Case 412 thousand 65 Loss...</td>\n",
       "    </tr>\n",
       "    <tr>\n",
       "      <th>9</th>\n",
       "      <td>0.166667</td>\n",
       "      <td>Pasifagresif1 hakantunc4 trbznluuu the Bekarmi...</td>\n",
       "    </tr>\n",
       "    <tr>\n",
       "      <th>10</th>\n",
       "      <td>0.183333</td>\n",
       "      <td>God help you if you fcunion the future stadium...</td>\n",
       "    </tr>\n",
       "    <tr>\n",
       "      <th>11</th>\n",
       "      <td>0.000000</td>\n",
       "      <td>Zonguldakta Corona struggle 19 thousand 757 in...</td>\n",
       "    </tr>\n",
       "    <tr>\n",
       "      <th>12</th>\n",
       "      <td>0.000000</td>\n",
       "      <td>Zonguldakta Corona struggle 19 thousand 757 in...</td>\n",
       "    </tr>\n",
       "    <tr>\n",
       "      <th>13</th>\n",
       "      <td>0.000000</td>\n",
       "      <td>Zonguldak state officials Corona has performed...</td>\n",
       "    </tr>\n",
       "    <tr>\n",
       "      <th>14</th>\n",
       "      <td>-0.181818</td>\n",
       "      <td>Today we engage once again with a new exciteme...</td>\n",
       "    </tr>\n",
       "  </tbody>\n",
       "</table>\n",
       "</div>"
      ],
      "text/plain": [
       "    polarity                                              tweet\n",
       "0  -0.150000  I think the process of Covidien19 and pandemic...\n",
       "1   0.033333  cananerk hcilogl of the total number of deaths...\n",
       "2   0.227273  Ztn was my grandmothers corona test was positi...\n",
       "3   0.000000            sinirlibirii would not have Korona sksk\n",
       "4   0.100000  He put the mask nThese countries are hiding th...\n",
       "5   0.100000  ntv not correspond to how old they did in beat...\n",
       "6   0.025000  What can you do that ahp Pendik astronotken ar...\n",
       "7   0.045455  Is it enough to tell the second largest portio...\n",
       "8   0.000000  Turkeys corona Table Case 412 thousand 65 Loss...\n",
       "9   0.166667  Pasifagresif1 hakantunc4 trbznluuu the Bekarmi...\n",
       "10  0.183333  God help you if you fcunion the future stadium...\n",
       "11  0.000000  Zonguldakta Corona struggle 19 thousand 757 in...\n",
       "12  0.000000  Zonguldakta Corona struggle 19 thousand 757 in...\n",
       "13  0.000000  Zonguldak state officials Corona has performed...\n",
       "14 -0.181818  Today we engage once again with a new exciteme..."
      ]
     },
     "execution_count": 8,
     "metadata": {},
     "output_type": "execute_result"
    }
   ],
   "source": [
    "# Create dataframe containing the polarity value and tweet text\n",
    "sentiment_df = pd.DataFrame(sentiment_values, columns=[\"polarity\", \"tweet\"])\n",
    "\n",
    "sentiment_df.head(15)"
   ]
  },
  {
   "cell_type": "code",
   "execution_count": 9,
   "id": "billion-valentine",
   "metadata": {},
   "outputs": [
    {
     "data": {
      "image/png": "[encoded data removed]",
      "text/plain": [
       "<Figure size 576x432 with 1 Axes>"
      ]
     },
     "metadata": {
      "needs_background": "light"
     },
     "output_type": "display_data"
    }
   ],
   "source": [
    "fig, ax = plt.subplots(figsize=(8, 6))\n",
    "\n",
    "# Plot histogram of the polarity values\n",
    "sentiment_df.hist(bins=[-1, -0.75, -0.5, -0.25, 0.25, 0.5, 0.75, 1],\n",
    "             ax=ax,\n",
    "             color=\"purple\")\n",
    "\n",
    "plt.title(\"Sentiments from Tweets on Month\")\n",
    "plt.show()"
   ]
  },
  {
   "cell_type": "code",
   "execution_count": 10,
   "id": "unauthorized-cisco",
   "metadata": {},
   "outputs": [],
   "source": [
    "# Remove polarity values equal to zero\n",
    "sentiment_df = sentiment_df[sentiment_df.polarity != 0]"
   ]
  },
  {
   "cell_type": "code",
   "execution_count": 11,
   "id": "atmospheric-automation",
   "metadata": {},
   "outputs": [
    {
     "data": {
      "image/png": "[encoded data removed]",
      "text/plain": [
       "<Figure size 576x432 with 1 Axes>"
      ]
     },
     "metadata": {
      "needs_background": "light"
     },
     "output_type": "display_data"
    }
   ],
   "source": [
    "fig, ax = plt.subplots(figsize=(8, 6))\n",
    "\n",
    "# Plot histogram with break at zero\n",
    "sentiment_df.hist(bins=[-1, -0.75, -0.5, -0.25, 0.0, 0.25, 0.5, 0.75, 1],\n",
    "             ax=ax,\n",
    "             color=\"purple\")\n",
    "\n",
    "plt.title(\"Aylık atılan tweetlerin duygu analizi\")\n",
    "plt.show()\n",
    "\n",
    "#BURAYI AL"
   ]
  },
  {
   "cell_type": "code",
   "execution_count": 12,
   "id": "dense-stationery",
   "metadata": {},
   "outputs": [
    {
     "data": {
      "text/html": [
       "<div>\n",
       "<style scoped>\n",
       "    .dataframe tbody tr th:only-of-type {\n",
       "        vertical-align: middle;\n",
       "    }\n",
       "\n",
       "    .dataframe tbody tr th {\n",
       "        vertical-align: top;\n",
       "    }\n",
       "\n",
       "    .dataframe thead th {\n",
       "        text-align: right;\n",
       "    }\n",
       "</style>\n",
       "<table border=\"1\" class=\"dataframe\">\n",
       "  <thead>\n",
       "    <tr style=\"text-align: right;\">\n",
       "      <th></th>\n",
       "      <th>polarity</th>\n",
       "      <th>tweet</th>\n",
       "    </tr>\n",
       "  </thead>\n",
       "  <tbody>\n",
       "    <tr>\n",
       "      <th>1</th>\n",
       "      <td>0.033333</td>\n",
       "      <td>cananerk hcilogl of the total number of deaths...</td>\n",
       "    </tr>\n",
       "    <tr>\n",
       "      <th>2</th>\n",
       "      <td>0.227273</td>\n",
       "      <td>Ztn was my grandmothers corona test was positi...</td>\n",
       "    </tr>\n",
       "    <tr>\n",
       "      <th>4</th>\n",
       "      <td>0.100000</td>\n",
       "      <td>He put the mask nThese countries are hiding th...</td>\n",
       "    </tr>\n",
       "    <tr>\n",
       "      <th>5</th>\n",
       "      <td>0.100000</td>\n",
       "      <td>ntv not correspond to how old they did in beat...</td>\n",
       "    </tr>\n",
       "    <tr>\n",
       "      <th>6</th>\n",
       "      <td>0.025000</td>\n",
       "      <td>What can you do that ahp Pendik astronotken ar...</td>\n",
       "    </tr>\n",
       "    <tr>\n",
       "      <th>...</th>\n",
       "      <td>...</td>\n",
       "      <td>...</td>\n",
       "    </tr>\n",
       "    <tr>\n",
       "      <th>95642</th>\n",
       "      <td>0.041061</td>\n",
       "      <td>leopronat yes I was there one high school in t...</td>\n",
       "    </tr>\n",
       "    <tr>\n",
       "      <th>95643</th>\n",
       "      <td>0.159091</td>\n",
       "      <td>CHP Kepez District Chairman Onur I have learne...</td>\n",
       "    </tr>\n",
       "    <tr>\n",
       "      <th>95644</th>\n",
       "      <td>0.400000</td>\n",
       "      <td>Aaa official went forward while I welcome the ...</td>\n",
       "    </tr>\n",
       "    <tr>\n",
       "      <th>95647</th>\n",
       "      <td>0.018750</td>\n",
       "      <td>I just want to go out and held prisoner for a ...</td>\n",
       "    </tr>\n",
       "    <tr>\n",
       "      <th>95652</th>\n",
       "      <td>0.500000</td>\n",
       "      <td>Able to get what you Covidien O</td>\n",
       "    </tr>\n",
       "  </tbody>\n",
       "</table>\n",
       "<p>34528 rows × 2 columns</p>\n",
       "</div>"
      ],
      "text/plain": [
       "       polarity                                              tweet\n",
       "1      0.033333  cananerk hcilogl of the total number of deaths...\n",
       "2      0.227273  Ztn was my grandmothers corona test was positi...\n",
       "4      0.100000  He put the mask nThese countries are hiding th...\n",
       "5      0.100000  ntv not correspond to how old they did in beat...\n",
       "6      0.025000  What can you do that ahp Pendik astronotken ar...\n",
       "...         ...                                                ...\n",
       "95642  0.041061  leopronat yes I was there one high school in t...\n",
       "95643  0.159091  CHP Kepez District Chairman Onur I have learne...\n",
       "95644  0.400000  Aaa official went forward while I welcome the ...\n",
       "95647  0.018750  I just want to go out and held prisoner for a ...\n",
       "95652  0.500000                    Able to get what you Covidien O\n",
       "\n",
       "[34528 rows x 2 columns]"
      ]
     },
     "execution_count": 12,
     "metadata": {},
     "output_type": "execute_result"
    }
   ],
   "source": [
    "# Remove polarity values equal to zero\n",
    "pos_df =sentiment_df[sentiment_df.polarity > 0]\n",
    "pos_df"
   ]
  },
  {
   "cell_type": "code",
   "execution_count": 13,
   "id": "provincial-router",
   "metadata": {},
   "outputs": [
    {
     "name": "stdout",
     "output_type": "stream",
     "text": [
      "0.24781290694305874\n"
     ]
    }
   ],
   "source": [
    "print(np.average(pos_df['polarity'])) #BURAYI AL"
   ]
  },
  {
   "cell_type": "code",
   "execution_count": 14,
   "id": "black-promotion",
   "metadata": {},
   "outputs": [
    {
     "name": "stdout",
     "output_type": "stream",
     "text": [
      "1        [cananerk hcilogl of the total number of death...\n",
      "2        [Ztn was my grandmothers corona test was posit...\n",
      "4        [He put the mask nThese countries are hiding t...\n",
      "5        [ntv not correspond to how old they did in bea...\n",
      "6        [What can you do that ahp Pendik astronotken a...\n",
      "                               ...                        \n",
      "95642    [leopronat yes I was there one high school in ...\n",
      "95643    [CHP Kepez District Chairman Onur I have learn...\n",
      "95644    [Aaa official went forward while I welcome the...\n",
      "95647    [I just want to go out and held prisoner for a...\n",
      "95652                    [Able to get what you Covidien O]\n",
      "Name: tweet, Length: 34528, dtype: object\n"
     ]
    }
   ],
   "source": [
    "pos_tweet= pos_df[\"tweet\"].str.split(',')\n",
    "print (pos_tweet)"
   ]
  },
  {
   "cell_type": "code",
   "execution_count": 15,
   "id": "satisfactory-genome",
   "metadata": {},
   "outputs": [],
   "source": [
    "#urel kaldırma\n",
    "\n",
    "def remove_url(txt):\n",
    "    \"\"\"Replace URLs found in a text string with nothing \n",
    "    (i.e. it will remove the URL from the string).\n",
    "\n",
    "    Parameters\n",
    "    ----------\n",
    "    txt : string\n",
    "        A text string that you want to parse and remove urls.\n",
    "\n",
    "    Returns\n",
    "    -------\n",
    "    The same txt string with url's removed.\n",
    "    \"\"\"\n",
    "\n",
    "    return \" \".join(re.sub(\"([^0-9A-Za-z \\t])|(\\w+:\\/\\/\\S+)\", \"\", str(txt)).split())"
   ]
  },
  {
   "cell_type": "code",
   "execution_count": 16,
   "id": "fewer-education",
   "metadata": {},
   "outputs": [
    {
     "data": {
      "text/plain": [
       "['cananerk hcilogl of the total number of deaths in 2019 in bulundurup into account the increase in population 2020 Corona Corona external measurement of these deaths completely',\n",
       " 'Ztn was my grandmothers corona test was positive in the positive for now my grandparents',\n",
       " 'He put the mask nThese countries are hiding there in the choir you think you here that the choir OCD summit already had my scarf off my nose with my hand gloves direct mouth',\n",
       " 'ntv not correspond to how old they did in beating the disease dzmeceb of the koronayyoks to choose their man even to the choir',\n",
       " 'What can you do that ahp Pendik astronotken are allergic We are always stuffy nose that youre already getting hard to breathe I would refer to God the whole team including the Minister particularly Korona']"
      ]
     },
     "execution_count": 16,
     "metadata": {},
     "output_type": "execute_result"
    }
   ],
   "source": [
    "#url kaldırılmış halini çağırma\n",
    "\n",
    "pos_all_tweets_no_urls = [remove_url(tweet) for tweet in pos_tweet]\n",
    "pos_all_tweets_no_urls[:5]"
   ]
  },
  {
   "cell_type": "code",
   "execution_count": 17,
   "id": "earlier-cinema",
   "metadata": {},
   "outputs": [
    {
     "data": {
      "text/plain": [
       "[['cananerk',\n",
       "  'hcilogl',\n",
       "  'of',\n",
       "  'the',\n",
       "  'total',\n",
       "  'number',\n",
       "  'of',\n",
       "  'deaths',\n",
       "  'in',\n",
       "  '2019',\n",
       "  'in',\n",
       "  'bulundurup',\n",
       "  'into',\n",
       "  'account',\n",
       "  'the',\n",
       "  'increase',\n",
       "  'in',\n",
       "  'population',\n",
       "  '2020',\n",
       "  'corona',\n",
       "  'corona',\n",
       "  'external',\n",
       "  'measurement',\n",
       "  'of',\n",
       "  'these',\n",
       "  'deaths',\n",
       "  'completely'],\n",
       " ['ztn',\n",
       "  'was',\n",
       "  'my',\n",
       "  'grandmothers',\n",
       "  'corona',\n",
       "  'test',\n",
       "  'was',\n",
       "  'positive',\n",
       "  'in',\n",
       "  'the',\n",
       "  'positive',\n",
       "  'for',\n",
       "  'now',\n",
       "  'my',\n",
       "  'grandparents']]"
      ]
     },
     "execution_count": 17,
     "metadata": {},
     "output_type": "execute_result"
    }
   ],
   "source": [
    "# Create a list of lists containing lowercase words for each tweet; url olmadan küçük harflere ayırma #tokenizer\n",
    "pos_words_in_tweet = [tweet.lower().split() for tweet in pos_all_tweets_no_urls]\n",
    "pos_words_in_tweet[:2]"
   ]
  },
  {
   "cell_type": "code",
   "execution_count": 18,
   "id": "stunning-participant",
   "metadata": {},
   "outputs": [
    {
     "data": {
      "text/plain": [
       "[('the', 60373),\n",
       " ('to', 30404),\n",
       " ('of', 26523),\n",
       " ('in', 20745),\n",
       " ('i', 12993),\n",
       " ('a', 12717),\n",
       " ('and', 11969),\n",
       " ('not', 11947),\n",
       " ('is', 11547),\n",
       " ('you', 9608),\n",
       " ('corona', 9314),\n",
       " ('covidien', 8506),\n",
       " ('we', 7623),\n",
       " ('that', 6958),\n",
       " ('our', 6411)]"
      ]
     },
     "execution_count": 18,
     "metadata": {},
     "output_type": "execute_result"
    }
   ],
   "source": [
    "# List of all words across tweets; kelimelerin sayılması\n",
    "pos_all_words_no_urls = list(itertools.chain(*pos_words_in_tweet))\n",
    "\n",
    "# Create counter\n",
    "counts_no_urls = collections.Counter(pos_all_words_no_urls)\n",
    "\n",
    "counts_no_urls.most_common(15)"
   ]
  },
  {
   "cell_type": "code",
   "execution_count": 19,
   "id": "prostate-pencil",
   "metadata": {},
   "outputs": [
    {
     "name": "stderr",
     "output_type": "stream",
     "text": [
      "[nltk_data] Downloading package stopwords to\n",
      "[nltk_data]     C:\\Users\\ACER\\AppData\\Roaming\\nltk_data...\n",
      "[nltk_data]   Package stopwords is already up-to-date!\n"
     ]
    },
    {
     "data": {
      "text/plain": [
       "True"
      ]
     },
     "execution_count": 19,
     "metadata": {},
     "output_type": "execute_result"
    }
   ],
   "source": [
    "nltk.download('stopwords')"
   ]
  },
  {
   "cell_type": "code",
   "execution_count": 20,
   "id": "marine-dominican",
   "metadata": {},
   "outputs": [
    {
     "data": {
      "text/plain": [
       "['at', 'i', 'their', 'through', 'while', 'the', 'mightn', 'does', 'an', 'on']"
      ]
     },
     "execution_count": 20,
     "metadata": {},
     "output_type": "execute_result"
    }
   ],
   "source": [
    "#var olanların gösterimi\n",
    "from nltk.corpus import stopwords\n",
    "pos_stop_words = set(stopwords.words('english'))\n",
    "\n",
    "# View a few words from the set\n",
    "list(pos_stop_words)[0:10]"
   ]
  },
  {
   "cell_type": "code",
   "execution_count": 21,
   "id": "living-battle",
   "metadata": {},
   "outputs": [
    {
     "data": {
      "text/plain": [
       "['cananerk',\n",
       " 'hcilogl',\n",
       " 'total',\n",
       " 'number',\n",
       " 'deaths',\n",
       " '2019',\n",
       " 'bulundurup',\n",
       " 'account',\n",
       " 'increase',\n",
       " 'population',\n",
       " '2020',\n",
       " 'corona',\n",
       " 'corona',\n",
       " 'external',\n",
       " 'measurement',\n",
       " 'deaths',\n",
       " 'completely']"
      ]
     },
     "execution_count": 21,
     "metadata": {},
     "output_type": "execute_result"
    }
   ],
   "source": [
    "# Remove stop words from each tweet list of words; kaldırılmış durumu\n",
    "pos_tweets_nsw = [[word for word in tweet_words if not word in pos_stop_words]\n",
    "              for tweet_words in pos_words_in_tweet]\n",
    "\n",
    "pos_tweets_nsw[0]"
   ]
  },
  {
   "cell_type": "code",
   "execution_count": 22,
   "id": "stock-nursery",
   "metadata": {},
   "outputs": [
    {
     "data": {
      "text/plain": [
       "[('corona', 9314),\n",
       " ('covidien', 8506),\n",
       " ('covidien19', 4590),\n",
       " ('people', 4282),\n",
       " ('new', 4012),\n",
       " ('virus', 3786),\n",
       " ('positive', 3721),\n",
       " ('get', 2641),\n",
       " ('health', 2621),\n",
       " ('test', 2526),\n",
       " ('choir', 2518),\n",
       " ('covid19', 2495),\n",
       " ('kovid19', 2389),\n",
       " ('also', 2178),\n",
       " ('first', 2096)]"
      ]
     },
     "execution_count": 22,
     "metadata": {},
     "output_type": "execute_result"
    }
   ],
   "source": [
    "#çok kullanılanlara tekrar bakılırsa\n",
    "pos_all_words_nsw = list(itertools.chain(*pos_tweets_nsw))\n",
    "\n",
    "pos_counts_nsw = collections.Counter(pos_all_words_nsw)\n",
    "\n",
    "pos_counts_nsw.most_common(15)"
   ]
  },
  {
   "cell_type": "code",
   "execution_count": 23,
   "id": "proper-rhythm",
   "metadata": {},
   "outputs": [
    {
     "data": {
      "image/png": "[encoded data removed]",
      "text/plain": [
       "<Figure size 576x576 with 1 Axes>"
      ]
     },
     "metadata": {
      "needs_background": "light"
     },
     "output_type": "display_data"
    }
   ],
   "source": [
    "#görselleştirme\n",
    "pos_clean_tweets_nsw = pd.DataFrame(pos_counts_nsw.most_common(15),\n",
    "                             columns=['words', 'count'])\n",
    "\n",
    "fig, ax = plt.subplots(figsize=(8, 8))\n",
    "\n",
    "# Plot horizontal bar graph\n",
    "pos_clean_tweets_nsw.sort_values(by='count').plot.barh(x='words',\n",
    "                      y='count',\n",
    "                      ax=ax,\n",
    "                      color=\"purple\")\n",
    "\n",
    "ax.set_title(\"Common Words Found in Tweets (Without Stop Words)\")\n",
    "\n",
    "plt.show()"
   ]
  },
  {
   "cell_type": "code",
   "execution_count": 24,
   "id": "unusual-secret",
   "metadata": {},
   "outputs": [
    {
     "data": {
      "text/plain": [
       "['cananerk',\n",
       " 'hcilogl',\n",
       " 'total',\n",
       " 'number',\n",
       " 'deaths',\n",
       " '2019',\n",
       " 'bulundurup',\n",
       " 'account',\n",
       " 'increase',\n",
       " 'population',\n",
       " '2020',\n",
       " 'corona',\n",
       " 'corona',\n",
       " 'external',\n",
       " 'measurement',\n",
       " 'deaths',\n",
       " 'completely']"
      ]
     },
     "execution_count": 24,
     "metadata": {},
     "output_type": "execute_result"
    }
   ],
   "source": [
    "#arama kelimesinin kaldırılması\n",
    "\n",
    "pos_collection_words = ['corona', 'coronavirues', 'coronarovirus', 'covid', 'virus', \n",
    "                    'also', '2020', 'coronavirus', 'us', 'get', 'new', 'coro', \n",
    "                    'covid19', 'covidien19', 'covidien', '19', 'im', 'korona', 'chinese', \n",
    "                        'last', 'breaking', 'one', 'even', 'kovid19', '24' ]\n",
    "pos_tweets_nsw_nc = [[w for w in word if not w in pos_collection_words]\n",
    "                 for word in pos_tweets_nsw]\n",
    "pos_tweets_nsw[0]"
   ]
  },
  {
   "cell_type": "code",
   "execution_count": 25,
   "id": "accompanied-notice",
   "metadata": {},
   "outputs": [
    {
     "data": {
      "text/plain": [
       "[('people', 4282),\n",
       " ('positive', 3721),\n",
       " ('health', 2621),\n",
       " ('test', 2526),\n",
       " ('choir', 2518),\n",
       " ('first', 2096),\n",
       " ('number', 2094),\n",
       " ('measures', 1926),\n",
       " ('cases', 1720),\n",
       " ('would', 1632),\n",
       " ('good', 1598),\n",
       " ('said', 1589),\n",
       " ('days', 1510),\n",
       " ('hospital', 1499),\n",
       " ('patients', 1474)]"
      ]
     },
     "execution_count": 25,
     "metadata": {},
     "output_type": "execute_result"
    }
   ],
   "source": [
    "# Flatten list of words in clean tweets    #BURAYI AL\n",
    "pos_all_words_nsw_nc = list(itertools.chain(*pos_tweets_nsw_nc))\n",
    "\n",
    "# Create counter of words in clean tweets\n",
    "pos_counts_nsw_nc = collections.Counter(pos_all_words_nsw_nc)\n",
    "\n",
    "pos_counts_nsw_nc.most_common(15)  "
   ]
  },
  {
   "cell_type": "code",
   "execution_count": 26,
   "id": "excess-drinking",
   "metadata": {},
   "outputs": [
    {
     "data": {
      "text/html": [
       "<div>\n",
       "<style scoped>\n",
       "    .dataframe tbody tr th:only-of-type {\n",
       "        vertical-align: middle;\n",
       "    }\n",
       "\n",
       "    .dataframe tbody tr th {\n",
       "        vertical-align: top;\n",
       "    }\n",
       "\n",
       "    .dataframe thead th {\n",
       "        text-align: right;\n",
       "    }\n",
       "</style>\n",
       "<table border=\"1\" class=\"dataframe\">\n",
       "  <thead>\n",
       "    <tr style=\"text-align: right;\">\n",
       "      <th></th>\n",
       "      <th>words</th>\n",
       "      <th>count</th>\n",
       "    </tr>\n",
       "  </thead>\n",
       "  <tbody>\n",
       "    <tr>\n",
       "      <th>0</th>\n",
       "      <td>people</td>\n",
       "      <td>4282</td>\n",
       "    </tr>\n",
       "    <tr>\n",
       "      <th>1</th>\n",
       "      <td>positive</td>\n",
       "      <td>3721</td>\n",
       "    </tr>\n",
       "    <tr>\n",
       "      <th>2</th>\n",
       "      <td>health</td>\n",
       "      <td>2621</td>\n",
       "    </tr>\n",
       "    <tr>\n",
       "      <th>3</th>\n",
       "      <td>test</td>\n",
       "      <td>2526</td>\n",
       "    </tr>\n",
       "    <tr>\n",
       "      <th>4</th>\n",
       "      <td>choir</td>\n",
       "      <td>2518</td>\n",
       "    </tr>\n",
       "  </tbody>\n",
       "</table>\n",
       "</div>"
      ],
      "text/plain": [
       "      words  count\n",
       "0    people   4282\n",
       "1  positive   3721\n",
       "2    health   2621\n",
       "3      test   2526\n",
       "4     choir   2518"
      ]
     },
     "execution_count": 26,
     "metadata": {},
     "output_type": "execute_result"
    }
   ],
   "source": [
    "pos_clean_tweets_ncw = pd.DataFrame(pos_counts_nsw_nc.most_common(15), # en fazla değişken kelime buradan değişir\n",
    "                             columns=['words', 'count'])\n",
    "pos_clean_tweets_ncw.head()"
   ]
  },
  {
   "cell_type": "code",
   "execution_count": 27,
   "id": "overall-biology",
   "metadata": {},
   "outputs": [
    {
     "data": {
      "image/png": "[encoded data removed]",
      "text/plain": [
       "<Figure size 576x576 with 1 Axes>"
      ]
     },
     "metadata": {
      "needs_background": "light"
     },
     "output_type": "display_data"
    }
   ],
   "source": [
    "fig, ax = plt.subplots(figsize=(8, 8)) #çıktının boyutu \n",
    "\n",
    "# Plot horizontal bar graph\n",
    "pos_clean_tweets_ncw.sort_values(by='count').plot.barh(x='words',\n",
    "                      y='count',\n",
    "                      ax=ax,\n",
    "                      color=\"purple\")\n",
    "\n",
    "ax.set_title(\"Common Words Found in Tweets (Without Stop or Collection Words)\") #başlık\n",
    "\n",
    "plt.show()"
   ]
  },
  {
   "cell_type": "code",
   "execution_count": 28,
   "id": "altered-symphony",
   "metadata": {},
   "outputs": [
    {
     "data": {
      "text/plain": [
       "[('cananerk', 'hcilogl'),\n",
       " ('hcilogl', 'total'),\n",
       " ('total', 'number'),\n",
       " ('number', 'deaths'),\n",
       " ('deaths', '2019'),\n",
       " ('2019', 'bulundurup'),\n",
       " ('bulundurup', 'account'),\n",
       " ('account', 'increase'),\n",
       " ('increase', 'population'),\n",
       " ('population', 'external'),\n",
       " ('external', 'measurement'),\n",
       " ('measurement', 'deaths'),\n",
       " ('deaths', 'completely')]"
      ]
     },
     "execution_count": 28,
     "metadata": {},
     "output_type": "execute_result"
    }
   ],
   "source": [
    "#Explore Co-occurring Words\n",
    "# Create list of lists containing bigrams in tweets\n",
    "pos_terms_bigram = [list(bigrams(tweet)) for tweet in pos_tweets_nsw_nc]\n",
    "\n",
    "# View bigrams for the first tweet\n",
    "pos_terms_bigram[0]"
   ]
  },
  {
   "cell_type": "code",
   "execution_count": 29,
   "id": "molecular-desperate",
   "metadata": {},
   "outputs": [
    {
     "data": {
      "text/plain": [
       "[(('tested', 'positive'), 662),\n",
       " (('test', 'positive'), 511),\n",
       " (('number', 'cases'), 484),\n",
       " (('lost', 'lives'), 361),\n",
       " (('general', 'manager'), 360),\n",
       " (('social', 'distance'), 347),\n",
       " (('mustafa', 'live'), 333),\n",
       " (('health', 'workers'), 303),\n",
       " (('intensive', 'care'), 280),\n",
       " (('health', 'care'), 257),\n",
       " (('positive', 'test'), 255),\n",
       " (('every', 'day'), 246),\n",
       " (('first', 'time'), 233),\n",
       " (('measures', 'taken'), 231),\n",
       " (('infect', 'people'), 229)]"
      ]
     },
     "execution_count": 29,
     "metadata": {},
     "output_type": "execute_result"
    }
   ],
   "source": [
    "# Flatten list of bigrams in clean tweets      BURAYI AL\n",
    "pos_bigrams = list(itertools.chain(*pos_terms_bigram))\n",
    "\n",
    "# Create counter of words in clean bigrams\n",
    "pos_bigram_counts = collections.Counter(pos_bigrams)\n",
    "\n",
    "pos_bigram_counts.most_common(15)"
   ]
  },
  {
   "cell_type": "code",
   "execution_count": 30,
   "id": "involved-phenomenon",
   "metadata": {},
   "outputs": [
    {
     "data": {
      "text/html": [
       "<div>\n",
       "<style scoped>\n",
       "    .dataframe tbody tr th:only-of-type {\n",
       "        vertical-align: middle;\n",
       "    }\n",
       "\n",
       "    .dataframe tbody tr th {\n",
       "        vertical-align: top;\n",
       "    }\n",
       "\n",
       "    .dataframe thead th {\n",
       "        text-align: right;\n",
       "    }\n",
       "</style>\n",
       "<table border=\"1\" class=\"dataframe\">\n",
       "  <thead>\n",
       "    <tr style=\"text-align: right;\">\n",
       "      <th></th>\n",
       "      <th>bigram</th>\n",
       "      <th>count</th>\n",
       "    </tr>\n",
       "  </thead>\n",
       "  <tbody>\n",
       "    <tr>\n",
       "      <th>0</th>\n",
       "      <td>(tested, positive)</td>\n",
       "      <td>662</td>\n",
       "    </tr>\n",
       "    <tr>\n",
       "      <th>1</th>\n",
       "      <td>(test, positive)</td>\n",
       "      <td>511</td>\n",
       "    </tr>\n",
       "    <tr>\n",
       "      <th>2</th>\n",
       "      <td>(number, cases)</td>\n",
       "      <td>484</td>\n",
       "    </tr>\n",
       "    <tr>\n",
       "      <th>3</th>\n",
       "      <td>(lost, lives)</td>\n",
       "      <td>361</td>\n",
       "    </tr>\n",
       "    <tr>\n",
       "      <th>4</th>\n",
       "      <td>(general, manager)</td>\n",
       "      <td>360</td>\n",
       "    </tr>\n",
       "    <tr>\n",
       "      <th>5</th>\n",
       "      <td>(social, distance)</td>\n",
       "      <td>347</td>\n",
       "    </tr>\n",
       "    <tr>\n",
       "      <th>6</th>\n",
       "      <td>(mustafa, live)</td>\n",
       "      <td>333</td>\n",
       "    </tr>\n",
       "    <tr>\n",
       "      <th>7</th>\n",
       "      <td>(health, workers)</td>\n",
       "      <td>303</td>\n",
       "    </tr>\n",
       "    <tr>\n",
       "      <th>8</th>\n",
       "      <td>(intensive, care)</td>\n",
       "      <td>280</td>\n",
       "    </tr>\n",
       "    <tr>\n",
       "      <th>9</th>\n",
       "      <td>(health, care)</td>\n",
       "      <td>257</td>\n",
       "    </tr>\n",
       "    <tr>\n",
       "      <th>10</th>\n",
       "      <td>(positive, test)</td>\n",
       "      <td>255</td>\n",
       "    </tr>\n",
       "    <tr>\n",
       "      <th>11</th>\n",
       "      <td>(every, day)</td>\n",
       "      <td>246</td>\n",
       "    </tr>\n",
       "    <tr>\n",
       "      <th>12</th>\n",
       "      <td>(first, time)</td>\n",
       "      <td>233</td>\n",
       "    </tr>\n",
       "    <tr>\n",
       "      <th>13</th>\n",
       "      <td>(measures, taken)</td>\n",
       "      <td>231</td>\n",
       "    </tr>\n",
       "    <tr>\n",
       "      <th>14</th>\n",
       "      <td>(infect, people)</td>\n",
       "      <td>229</td>\n",
       "    </tr>\n",
       "  </tbody>\n",
       "</table>\n",
       "</div>"
      ],
      "text/plain": [
       "                bigram  count\n",
       "0   (tested, positive)    662\n",
       "1     (test, positive)    511\n",
       "2      (number, cases)    484\n",
       "3        (lost, lives)    361\n",
       "4   (general, manager)    360\n",
       "5   (social, distance)    347\n",
       "6      (mustafa, live)    333\n",
       "7    (health, workers)    303\n",
       "8    (intensive, care)    280\n",
       "9       (health, care)    257\n",
       "10    (positive, test)    255\n",
       "11        (every, day)    246\n",
       "12       (first, time)    233\n",
       "13   (measures, taken)    231\n",
       "14    (infect, people)    229"
      ]
     },
     "execution_count": 30,
     "metadata": {},
     "output_type": "execute_result"
    }
   ],
   "source": [
    "pos_bigram_df = pd.DataFrame(pos_bigram_counts.most_common(15),\n",
    "                             columns=['bigram', 'count'])\n",
    "\n",
    "pos_bigram_df"
   ]
  },
  {
   "cell_type": "code",
   "execution_count": 31,
   "id": "qualified-ribbon",
   "metadata": {},
   "outputs": [],
   "source": [
    "# Create dictionary of bigrams and their counts\n",
    "d = pos_bigram_df.set_index('bigram').T.to_dict('records')"
   ]
  },
  {
   "cell_type": "code",
   "execution_count": 32,
   "id": "floating-medline",
   "metadata": {},
   "outputs": [],
   "source": [
    "# Create network plot \n",
    "G = nx.Graph()\n",
    "\n",
    "# Create connections between nodes\n",
    "for k, v in d[0].items():\n",
    "    G.add_edge(k[0], k[1], weight=(v * 10))\n",
    "\n",
    "#G.add_node(\"china\", weight=100)"
   ]
  },
  {
   "cell_type": "code",
   "execution_count": 33,
   "id": "potential-graphic",
   "metadata": {},
   "outputs": [
    {
     "data": {
      "image/png": "[encoded data removed]",
      "text/plain": [
       "<Figure size 720x576 with 1 Axes>"
      ]
     },
     "metadata": {},
     "output_type": "display_data"
    }
   ],
   "source": [
    "fig, ax = plt.subplots(figsize=(10, 8))\n",
    "\n",
    "pos = nx.spring_layout(G, k=2)\n",
    "\n",
    "# Plot networks\n",
    "nx.draw_networkx(G, pos,\n",
    "                 font_size=16,\n",
    "                 width=3,\n",
    "                 edge_color='grey',\n",
    "                 node_color='purple',\n",
    "                 with_labels = False,\n",
    "                 ax=ax)\n",
    "\n",
    "# Create offset labels\n",
    "for key, value in pos.items():\n",
    "    x, y = value[0]+.135, value[1]+.045\n",
    "    ax.text(x, y,\n",
    "            s=key,\n",
    "            bbox=dict(facecolor='red', alpha=0.25),\n",
    "            horizontalalignment='center', fontsize=13)\n",
    "    \n",
    "plt.show()\n",
    "\n",
    "#burayı al"
   ]
  },
  {
   "cell_type": "markdown",
   "id": "reserved-rainbow",
   "metadata": {},
   "source": [
    "# negatif uygulama "
   ]
  },
  {
   "cell_type": "code",
   "execution_count": 34,
   "id": "ongoing-compression",
   "metadata": {},
   "outputs": [
    {
     "data": {
      "text/html": [
       "<div>\n",
       "<style scoped>\n",
       "    .dataframe tbody tr th:only-of-type {\n",
       "        vertical-align: middle;\n",
       "    }\n",
       "\n",
       "    .dataframe tbody tr th {\n",
       "        vertical-align: top;\n",
       "    }\n",
       "\n",
       "    .dataframe thead th {\n",
       "        text-align: right;\n",
       "    }\n",
       "</style>\n",
       "<table border=\"1\" class=\"dataframe\">\n",
       "  <thead>\n",
       "    <tr style=\"text-align: right;\">\n",
       "      <th></th>\n",
       "      <th>polarity</th>\n",
       "      <th>tweet</th>\n",
       "    </tr>\n",
       "  </thead>\n",
       "  <tbody>\n",
       "    <tr>\n",
       "      <th>0</th>\n",
       "      <td>-0.150000</td>\n",
       "      <td>I think the process of Covidien19 and pandemic...</td>\n",
       "    </tr>\n",
       "    <tr>\n",
       "      <th>14</th>\n",
       "      <td>-0.181818</td>\n",
       "      <td>Today we engage once again with a new exciteme...</td>\n",
       "    </tr>\n",
       "    <tr>\n",
       "      <th>31</th>\n",
       "      <td>-0.011364</td>\n",
       "      <td>Zlatann the Kovid19 tested positive We say get...</td>\n",
       "    </tr>\n",
       "    <tr>\n",
       "      <th>32</th>\n",
       "      <td>-0.263889</td>\n",
       "      <td>I do not like uncertainty and wait for no man ...</td>\n",
       "    </tr>\n",
       "    <tr>\n",
       "      <th>40</th>\n",
       "      <td>-0.700000</td>\n",
       "      <td>Zlatan Covidien stood up to challenge me Bad idea</td>\n",
       "    </tr>\n",
       "    <tr>\n",
       "      <th>...</th>\n",
       "      <td>...</td>\n",
       "      <td>...</td>\n",
       "    </tr>\n",
       "    <tr>\n",
       "      <th>95627</th>\n",
       "      <td>-0.194792</td>\n",
       "      <td>Half of the water remaining half of the countr...</td>\n",
       "    </tr>\n",
       "    <tr>\n",
       "      <th>95632</th>\n",
       "      <td>-0.100000</td>\n",
       "      <td>door closed wrapped around walks among us neve...</td>\n",
       "    </tr>\n",
       "    <tr>\n",
       "      <th>95641</th>\n",
       "      <td>-0.300000</td>\n",
       "      <td>Covit19 test is negative So allergic asthma tr...</td>\n",
       "    </tr>\n",
       "    <tr>\n",
       "      <th>95645</th>\n",
       "      <td>-0.300000</td>\n",
       "      <td>corona test negative ckt</td>\n",
       "    </tr>\n",
       "    <tr>\n",
       "      <th>95651</th>\n",
       "      <td>-0.050000</td>\n",
       "      <td>1kubr the following corona came over with a hu...</td>\n",
       "    </tr>\n",
       "  </tbody>\n",
       "</table>\n",
       "<p>20561 rows × 2 columns</p>\n",
       "</div>"
      ],
      "text/plain": [
       "       polarity                                              tweet\n",
       "0     -0.150000  I think the process of Covidien19 and pandemic...\n",
       "14    -0.181818  Today we engage once again with a new exciteme...\n",
       "31    -0.011364  Zlatann the Kovid19 tested positive We say get...\n",
       "32    -0.263889  I do not like uncertainty and wait for no man ...\n",
       "40    -0.700000  Zlatan Covidien stood up to challenge me Bad idea\n",
       "...         ...                                                ...\n",
       "95627 -0.194792  Half of the water remaining half of the countr...\n",
       "95632 -0.100000  door closed wrapped around walks among us neve...\n",
       "95641 -0.300000  Covit19 test is negative So allergic asthma tr...\n",
       "95645 -0.300000                           corona test negative ckt\n",
       "95651 -0.050000  1kubr the following corona came over with a hu...\n",
       "\n",
       "[20561 rows x 2 columns]"
      ]
     },
     "execution_count": 34,
     "metadata": {},
     "output_type": "execute_result"
    }
   ],
   "source": [
    "# Remove polarity values equal to zero\n",
    "neg_df =sentiment_df[sentiment_df.polarity < 0]\n",
    "neg_df"
   ]
  },
  {
   "cell_type": "code",
   "execution_count": 35,
   "id": "premium-skating",
   "metadata": {},
   "outputs": [
    {
     "name": "stdout",
     "output_type": "stream",
     "text": [
      "-0.2113230429680925\n"
     ]
    }
   ],
   "source": [
    "print(np.average(neg_df['polarity'])) #burayı al"
   ]
  },
  {
   "cell_type": "code",
   "execution_count": 36,
   "id": "amino-youth",
   "metadata": {},
   "outputs": [
    {
     "name": "stdout",
     "output_type": "stream",
     "text": [
      "0.07644849179442323\n"
     ]
    }
   ],
   "source": [
    "print(np.average(sentiment_df['polarity'])) #genel ortalama"
   ]
  },
  {
   "cell_type": "code",
   "execution_count": 37,
   "id": "endless-commander",
   "metadata": {},
   "outputs": [
    {
     "name": "stdout",
     "output_type": "stream",
     "text": [
      "0        [I think the process of Covidien19 and pandemi...\n",
      "14       [Today we engage once again with a new excitem...\n",
      "31       [Zlatann the Kovid19 tested positive We say ge...\n",
      "32       [I do not like uncertainty and wait for no man...\n",
      "40       [Zlatan Covidien stood up to challenge me Bad ...\n",
      "                               ...                        \n",
      "95627    [Half of the water remaining half of the count...\n",
      "95632    [door closed wrapped around walks among us nev...\n",
      "95641    [Covit19 test is negative So allergic asthma t...\n",
      "95645                           [corona test negative ckt]\n",
      "95651    [1kubr the following corona came over with a h...\n",
      "Name: tweet, Length: 20561, dtype: object\n"
     ]
    }
   ],
   "source": [
    "neg_tweet= neg_df[\"tweet\"].str.split(',')\n",
    "print (neg_tweet)"
   ]
  },
  {
   "cell_type": "code",
   "execution_count": 38,
   "id": "innocent-stuff",
   "metadata": {},
   "outputs": [
    {
     "data": {
      "text/plain": [
       "['I think the process of Covidien19 and pandemic exaggerated After that things in the world are waiting Overreaction caused by economic crisis unemployment and despair arising from occurring',\n",
       " 'Today we engage once again with a new excitement for our Yusufeli District congressional measures Covidien19 as a contact it was under quarantine too despite my desire to unfortunately could not attend',\n",
       " 'Zlatann the Kovid19 tested positive We say get past the corona or',\n",
       " 'I do not like uncertainty and wait for no man Covidien test can also be extremely nervous What youre going to be quick my life is very boring to stay in uncertainty',\n",
       " 'Zlatan Covidien stood up to challenge me Bad idea']"
      ]
     },
     "execution_count": 38,
     "metadata": {},
     "output_type": "execute_result"
    }
   ],
   "source": [
    "#url kaldırılmış halini çağırma\n",
    "\n",
    "neg_all_tweets_no_urls = [remove_url(tweet) for tweet in neg_tweet]\n",
    "neg_all_tweets_no_urls[:5]\n"
   ]
  },
  {
   "cell_type": "code",
   "execution_count": 39,
   "id": "finnish-julian",
   "metadata": {},
   "outputs": [
    {
     "data": {
      "text/plain": [
       "[['i',\n",
       "  'think',\n",
       "  'the',\n",
       "  'process',\n",
       "  'of',\n",
       "  'covidien19',\n",
       "  'and',\n",
       "  'pandemic',\n",
       "  'exaggerated',\n",
       "  'after',\n",
       "  'that',\n",
       "  'things',\n",
       "  'in',\n",
       "  'the',\n",
       "  'world',\n",
       "  'are',\n",
       "  'waiting',\n",
       "  'overreaction',\n",
       "  'caused',\n",
       "  'by',\n",
       "  'economic',\n",
       "  'crisis',\n",
       "  'unemployment',\n",
       "  'and',\n",
       "  'despair',\n",
       "  'arising',\n",
       "  'from',\n",
       "  'occurring'],\n",
       " ['today',\n",
       "  'we',\n",
       "  'engage',\n",
       "  'once',\n",
       "  'again',\n",
       "  'with',\n",
       "  'a',\n",
       "  'new',\n",
       "  'excitement',\n",
       "  'for',\n",
       "  'our',\n",
       "  'yusufeli',\n",
       "  'district',\n",
       "  'congressional',\n",
       "  'measures',\n",
       "  'covidien19',\n",
       "  'as',\n",
       "  'a',\n",
       "  'contact',\n",
       "  'it',\n",
       "  'was',\n",
       "  'under',\n",
       "  'quarantine',\n",
       "  'too',\n",
       "  'despite',\n",
       "  'my',\n",
       "  'desire',\n",
       "  'to',\n",
       "  'unfortunately',\n",
       "  'could',\n",
       "  'not',\n",
       "  'attend']]"
      ]
     },
     "execution_count": 39,
     "metadata": {},
     "output_type": "execute_result"
    }
   ],
   "source": [
    "# Create a list of lists containing lowercase words for each tweet; url olmadan küçük harflere ayırma #tokenizer\n",
    "neg_words_in_tweet = [tweet.lower().split() for tweet in neg_all_tweets_no_urls]\n",
    "neg_words_in_tweet[:2]\n"
   ]
  },
  {
   "cell_type": "code",
   "execution_count": 40,
   "id": "residential-pulse",
   "metadata": {},
   "outputs": [],
   "source": [
    "# List of all words across tweets; kelimelerin sayılması\n",
    "neg_all_words_no_urls = list(itertools.chain(*neg_words_in_tweet))\n"
   ]
  },
  {
   "cell_type": "code",
   "execution_count": 41,
   "id": "naval-mission",
   "metadata": {},
   "outputs": [
    {
     "data": {
      "text/plain": [
       "[('the', 33579),\n",
       " ('to', 18397),\n",
       " ('of', 14196),\n",
       " ('in', 11449),\n",
       " ('i', 8392),\n",
       " ('not', 8222),\n",
       " ('a', 7259),\n",
       " ('is', 7232),\n",
       " ('corona', 6251),\n",
       " ('and', 5944),\n",
       " ('you', 5670),\n",
       " ('covidien', 5400),\n",
       " ('that', 3962),\n",
       " ('my', 3950),\n",
       " ('was', 3943)]"
      ]
     },
     "execution_count": 41,
     "metadata": {},
     "output_type": "execute_result"
    }
   ],
   "source": [
    "# Create counter\n",
    "counts_no_urls = collections.Counter(neg_all_words_no_urls)\n",
    "\n",
    "counts_no_urls.most_common(15)\n"
   ]
  },
  {
   "cell_type": "code",
   "execution_count": 42,
   "id": "naughty-geography",
   "metadata": {},
   "outputs": [
    {
     "data": {
      "text/plain": [
       "['at', 'i', 'their', 'through', 'while', 'the', 'mightn', 'does', 'an', 'on']"
      ]
     },
     "execution_count": 42,
     "metadata": {},
     "output_type": "execute_result"
    }
   ],
   "source": [
    "#var olanların gösterimi\n",
    "from nltk.corpus import stopwords\n",
    "neg_stop_words = set(stopwords.words('english'))\n",
    "\n",
    "# View a few words from the set\n",
    "list(neg_stop_words)[0:10]\n"
   ]
  },
  {
   "cell_type": "code",
   "execution_count": 43,
   "id": "automated-hello",
   "metadata": {},
   "outputs": [
    {
     "data": {
      "text/plain": [
       "['think',\n",
       " 'process',\n",
       " 'covidien19',\n",
       " 'pandemic',\n",
       " 'exaggerated',\n",
       " 'things',\n",
       " 'world',\n",
       " 'waiting',\n",
       " 'overreaction',\n",
       " 'caused',\n",
       " 'economic',\n",
       " 'crisis',\n",
       " 'unemployment',\n",
       " 'despair',\n",
       " 'arising',\n",
       " 'occurring']"
      ]
     },
     "execution_count": 43,
     "metadata": {},
     "output_type": "execute_result"
    }
   ],
   "source": [
    "# Remove stop words from each tweet list of words; kaldırılmış durumu\n",
    "neg_tweets_nsw = [[word for word in tweet_words if not word in neg_stop_words]\n",
    "              for tweet_words in neg_words_in_tweet]\n",
    "\n",
    "neg_tweets_nsw[0]\n"
   ]
  },
  {
   "cell_type": "code",
   "execution_count": 44,
   "id": "finnish-swift",
   "metadata": {},
   "outputs": [
    {
     "data": {
      "text/plain": [
       "[('corona', 6251),\n",
       " ('covidien', 5400),\n",
       " ('people', 2779),\n",
       " ('covidien19', 2254),\n",
       " ('virus', 2042),\n",
       " ('due', 1978),\n",
       " ('get', 1949),\n",
       " ('im', 1647),\n",
       " ('choir', 1625),\n",
       " ('kovid19', 1495),\n",
       " ('test', 1487),\n",
       " ('also', 1435),\n",
       " ('number', 1350),\n",
       " ('health', 1327),\n",
       " ('covid19', 1235)]"
      ]
     },
     "execution_count": 44,
     "metadata": {},
     "output_type": "execute_result"
    }
   ],
   "source": [
    "#çok kullanılanlara tekrar bakılırsa\n",
    "neg_all_words_nsw = list(itertools.chain(*neg_tweets_nsw))\n",
    "\n",
    "neg_counts_nsw = collections.Counter(neg_all_words_nsw)\n",
    "\n",
    "neg_counts_nsw.most_common(15)\n"
   ]
  },
  {
   "cell_type": "code",
   "execution_count": 45,
   "id": "conscious-activation",
   "metadata": {},
   "outputs": [
    {
     "data": {
      "image/png": "[encoded data removed]",
      "text/plain": [
       "<Figure size 576x576 with 1 Axes>"
      ]
     },
     "metadata": {
      "needs_background": "light"
     },
     "output_type": "display_data"
    }
   ],
   "source": [
    "\n",
    "#görselleştirme\n",
    "neg_clean_tweets_nsw = pd.DataFrame(neg_counts_nsw.most_common(15),\n",
    "                             columns=['words', 'count'])\n",
    "\n",
    "fig, ax = plt.subplots(figsize=(8, 8))\n",
    "\n",
    "# Plot horizontal bar graph\n",
    "neg_clean_tweets_nsw.sort_values(by='count').plot.barh(x='words',\n",
    "                      y='count',\n",
    "                      ax=ax,\n",
    "                      color=\"purple\")\n",
    "\n",
    "ax.set_title(\"Common Words Found in Tweets (Without Stop Words)\")\n",
    "\n",
    "plt.show()\n"
   ]
  },
  {
   "cell_type": "code",
   "execution_count": 46,
   "id": "alive-compound",
   "metadata": {},
   "outputs": [
    {
     "data": {
      "text/plain": [
       "['think',\n",
       " 'process',\n",
       " 'covidien19',\n",
       " 'pandemic',\n",
       " 'exaggerated',\n",
       " 'things',\n",
       " 'world',\n",
       " 'waiting',\n",
       " 'overreaction',\n",
       " 'caused',\n",
       " 'economic',\n",
       " 'crisis',\n",
       " 'unemployment',\n",
       " 'despair',\n",
       " 'arising',\n",
       " 'occurring']"
      ]
     },
     "execution_count": 46,
     "metadata": {},
     "output_type": "execute_result"
    }
   ],
   "source": [
    "#arama kelimesinin kaldırılması\n",
    "\n",
    "neg_collection_words = ['corona', 'coronavirues', 'coronarovirus', 'covid', 'virus', \n",
    "                    'also', '2020', 'coronavirus', 'us', 'get', 'new', 'coro', \n",
    "                    'covid19', 'covidien19', 'covidien', '19', 'im', 'korona', \n",
    "                        'chinese', 'last', 'breaking', 'one', 'even', 'kovid19', '24'  ]\n",
    "neg_tweets_nsw_nc = [[w for w in word if not w in neg_collection_words]\n",
    "                 for word in neg_tweets_nsw]\n",
    "neg_tweets_nsw[0]\n"
   ]
  },
  {
   "cell_type": "code",
   "execution_count": 47,
   "id": "formal-architecture",
   "metadata": {},
   "outputs": [
    {
     "data": {
      "text/plain": [
       "[('people', 2779),\n",
       " ('due', 1978),\n",
       " ('choir', 1625),\n",
       " ('test', 1487),\n",
       " ('number', 1350),\n",
       " ('health', 1327),\n",
       " ('negative', 1011),\n",
       " ('past', 1003),\n",
       " ('say', 982),\n",
       " ('go', 978),\n",
       " ('days', 952),\n",
       " ('think', 948),\n",
       " ('like', 911),\n",
       " ('patients', 873),\n",
       " ('said', 856)]"
      ]
     },
     "execution_count": 47,
     "metadata": {},
     "output_type": "execute_result"
    }
   ],
   "source": [
    "# Flatten list of words in clean tweets Burayı al\n",
    "neg_all_words_nsw_nc = list(itertools.chain(*neg_tweets_nsw_nc))\n",
    "\n",
    "# Create counter of words in clean tweets\n",
    "neg_counts_nsw_nc = collections.Counter(neg_all_words_nsw_nc)\n",
    "\n",
    "neg_counts_nsw_nc.most_common(15)   \n"
   ]
  },
  {
   "cell_type": "code",
   "execution_count": 48,
   "id": "enabling-mayor",
   "metadata": {},
   "outputs": [
    {
     "data": {
      "text/html": [
       "<div>\n",
       "<style scoped>\n",
       "    .dataframe tbody tr th:only-of-type {\n",
       "        vertical-align: middle;\n",
       "    }\n",
       "\n",
       "    .dataframe tbody tr th {\n",
       "        vertical-align: top;\n",
       "    }\n",
       "\n",
       "    .dataframe thead th {\n",
       "        text-align: right;\n",
       "    }\n",
       "</style>\n",
       "<table border=\"1\" class=\"dataframe\">\n",
       "  <thead>\n",
       "    <tr style=\"text-align: right;\">\n",
       "      <th></th>\n",
       "      <th>words</th>\n",
       "      <th>count</th>\n",
       "    </tr>\n",
       "  </thead>\n",
       "  <tbody>\n",
       "    <tr>\n",
       "      <th>0</th>\n",
       "      <td>people</td>\n",
       "      <td>2779</td>\n",
       "    </tr>\n",
       "    <tr>\n",
       "      <th>1</th>\n",
       "      <td>due</td>\n",
       "      <td>1978</td>\n",
       "    </tr>\n",
       "    <tr>\n",
       "      <th>2</th>\n",
       "      <td>choir</td>\n",
       "      <td>1625</td>\n",
       "    </tr>\n",
       "    <tr>\n",
       "      <th>3</th>\n",
       "      <td>test</td>\n",
       "      <td>1487</td>\n",
       "    </tr>\n",
       "    <tr>\n",
       "      <th>4</th>\n",
       "      <td>number</td>\n",
       "      <td>1350</td>\n",
       "    </tr>\n",
       "  </tbody>\n",
       "</table>\n",
       "</div>"
      ],
      "text/plain": [
       "    words  count\n",
       "0  people   2779\n",
       "1     due   1978\n",
       "2   choir   1625\n",
       "3    test   1487\n",
       "4  number   1350"
      ]
     },
     "execution_count": 48,
     "metadata": {},
     "output_type": "execute_result"
    }
   ],
   "source": [
    "neg_clean_tweets_ncw = pd.DataFrame(neg_counts_nsw_nc.most_common(15), # en fazla değişken kelime buradan değişir\n",
    "                             columns=['words', 'count'])\n",
    "neg_clean_tweets_ncw.head()\n",
    "\n"
   ]
  },
  {
   "cell_type": "code",
   "execution_count": 49,
   "id": "pretty-agreement",
   "metadata": {},
   "outputs": [
    {
     "data": {
      "image/png": "[encoded data removed]",
      "text/plain": [
       "<Figure size 576x576 with 1 Axes>"
      ]
     },
     "metadata": {
      "needs_background": "light"
     },
     "output_type": "display_data"
    }
   ],
   "source": [
    "fig, ax = plt.subplots(figsize=(8, 8)) #çıktının boyutu \n",
    "\n",
    "# Plot horizontal bar graph\n",
    "neg_clean_tweets_ncw.sort_values(by='count').plot.barh(x='words',\n",
    "                      y='count',\n",
    "                      ax=ax,\n",
    "                      color=\"purple\")\n",
    "\n",
    "ax.set_title(\"Common Words Found in Tweets (Without Stop or Collection Words)\") #başlık\n",
    "\n",
    "plt.show()\n"
   ]
  },
  {
   "cell_type": "code",
   "execution_count": 50,
   "id": "worst-calculator",
   "metadata": {},
   "outputs": [
    {
     "data": {
      "text/plain": [
       "[('think', 'process'),\n",
       " ('process', 'pandemic'),\n",
       " ('pandemic', 'exaggerated'),\n",
       " ('exaggerated', 'things'),\n",
       " ('things', 'world'),\n",
       " ('world', 'waiting'),\n",
       " ('waiting', 'overreaction'),\n",
       " ('overreaction', 'caused'),\n",
       " ('caused', 'economic'),\n",
       " ('economic', 'crisis'),\n",
       " ('crisis', 'unemployment'),\n",
       " ('unemployment', 'despair'),\n",
       " ('despair', 'arising'),\n",
       " ('arising', 'occurring')]"
      ]
     },
     "execution_count": 50,
     "metadata": {},
     "output_type": "execute_result"
    }
   ],
   "source": [
    "#Explore Co-occurring Words\n",
    "# Create list of lists containing bigrams in tweets\n",
    "neg_terms_bigram = [list(bigrams(tweet)) for tweet in neg_tweets_nsw_nc]\n",
    "\n",
    "# View bigrams for the first tweet\n",
    "neg_terms_bigram[0]\n"
   ]
  },
  {
   "cell_type": "code",
   "execution_count": 51,
   "id": "special-drilling",
   "metadata": {},
   "outputs": [
    {
     "data": {
      "text/plain": [
       "[(('lost', 'lives'), 371),\n",
       " (('people', 'lost'), 266),\n",
       " (('lives', 'due'), 230),\n",
       " (('test', 'negative'), 221),\n",
       " (('number', 'cases'), 201),\n",
       " (('seriously', 'ill'), 198),\n",
       " (('health', 'workers'), 193),\n",
       " (('intensive', 'care'), 179),\n",
       " (('every', 'day'), 175),\n",
       " (('past', 'hours'), 172),\n",
       " (('number', 'seriously'), 169),\n",
       " (('tested', 'positive'), 152),\n",
       " (('people', 'killed'), 152),\n",
       " (('health', 'care'), 149),\n",
       " (('came', 'back'), 144)]"
      ]
     },
     "execution_count": 51,
     "metadata": {},
     "output_type": "execute_result"
    }
   ],
   "source": [
    "# Flatten list of bigrams in clean tweets      BURAYI AL\n",
    "neg_bigrams = list(itertools.chain(*neg_terms_bigram))\n",
    "\n",
    "# Create counter of words in clean bigrams\n",
    "neg_bigram_counts = collections.Counter(neg_bigrams)\n",
    "\n",
    "neg_bigram_counts.most_common(15)\n"
   ]
  },
  {
   "cell_type": "code",
   "execution_count": 52,
   "id": "regulation-simpson",
   "metadata": {},
   "outputs": [
    {
     "data": {
      "text/html": [
       "<div>\n",
       "<style scoped>\n",
       "    .dataframe tbody tr th:only-of-type {\n",
       "        vertical-align: middle;\n",
       "    }\n",
       "\n",
       "    .dataframe tbody tr th {\n",
       "        vertical-align: top;\n",
       "    }\n",
       "\n",
       "    .dataframe thead th {\n",
       "        text-align: right;\n",
       "    }\n",
       "</style>\n",
       "<table border=\"1\" class=\"dataframe\">\n",
       "  <thead>\n",
       "    <tr style=\"text-align: right;\">\n",
       "      <th></th>\n",
       "      <th>bigram</th>\n",
       "      <th>count</th>\n",
       "    </tr>\n",
       "  </thead>\n",
       "  <tbody>\n",
       "    <tr>\n",
       "      <th>0</th>\n",
       "      <td>(lost, lives)</td>\n",
       "      <td>371</td>\n",
       "    </tr>\n",
       "    <tr>\n",
       "      <th>1</th>\n",
       "      <td>(people, lost)</td>\n",
       "      <td>266</td>\n",
       "    </tr>\n",
       "    <tr>\n",
       "      <th>2</th>\n",
       "      <td>(lives, due)</td>\n",
       "      <td>230</td>\n",
       "    </tr>\n",
       "    <tr>\n",
       "      <th>3</th>\n",
       "      <td>(test, negative)</td>\n",
       "      <td>221</td>\n",
       "    </tr>\n",
       "    <tr>\n",
       "      <th>4</th>\n",
       "      <td>(number, cases)</td>\n",
       "      <td>201</td>\n",
       "    </tr>\n",
       "    <tr>\n",
       "      <th>5</th>\n",
       "      <td>(seriously, ill)</td>\n",
       "      <td>198</td>\n",
       "    </tr>\n",
       "    <tr>\n",
       "      <th>6</th>\n",
       "      <td>(health, workers)</td>\n",
       "      <td>193</td>\n",
       "    </tr>\n",
       "    <tr>\n",
       "      <th>7</th>\n",
       "      <td>(intensive, care)</td>\n",
       "      <td>179</td>\n",
       "    </tr>\n",
       "    <tr>\n",
       "      <th>8</th>\n",
       "      <td>(every, day)</td>\n",
       "      <td>175</td>\n",
       "    </tr>\n",
       "    <tr>\n",
       "      <th>9</th>\n",
       "      <td>(past, hours)</td>\n",
       "      <td>172</td>\n",
       "    </tr>\n",
       "    <tr>\n",
       "      <th>10</th>\n",
       "      <td>(number, seriously)</td>\n",
       "      <td>169</td>\n",
       "    </tr>\n",
       "    <tr>\n",
       "      <th>11</th>\n",
       "      <td>(tested, positive)</td>\n",
       "      <td>152</td>\n",
       "    </tr>\n",
       "    <tr>\n",
       "      <th>12</th>\n",
       "      <td>(people, killed)</td>\n",
       "      <td>152</td>\n",
       "    </tr>\n",
       "    <tr>\n",
       "      <th>13</th>\n",
       "      <td>(health, care)</td>\n",
       "      <td>149</td>\n",
       "    </tr>\n",
       "    <tr>\n",
       "      <th>14</th>\n",
       "      <td>(came, back)</td>\n",
       "      <td>144</td>\n",
       "    </tr>\n",
       "  </tbody>\n",
       "</table>\n",
       "</div>"
      ],
      "text/plain": [
       "                 bigram  count\n",
       "0         (lost, lives)    371\n",
       "1        (people, lost)    266\n",
       "2          (lives, due)    230\n",
       "3      (test, negative)    221\n",
       "4       (number, cases)    201\n",
       "5      (seriously, ill)    198\n",
       "6     (health, workers)    193\n",
       "7     (intensive, care)    179\n",
       "8          (every, day)    175\n",
       "9         (past, hours)    172\n",
       "10  (number, seriously)    169\n",
       "11   (tested, positive)    152\n",
       "12     (people, killed)    152\n",
       "13       (health, care)    149\n",
       "14         (came, back)    144"
      ]
     },
     "execution_count": 52,
     "metadata": {},
     "output_type": "execute_result"
    }
   ],
   "source": [
    "neg_bigram_df = pd.DataFrame(neg_bigram_counts.most_common(15),\n",
    "                             columns=['bigram', 'count'])\n",
    "\n",
    "neg_bigram_df\n"
   ]
  },
  {
   "cell_type": "code",
   "execution_count": 53,
   "id": "wooden-bouquet",
   "metadata": {},
   "outputs": [],
   "source": [
    "# Create dictionary of bigrams and their counts\n",
    "d = neg_bigram_df.set_index('bigram').T.to_dict('records')\n"
   ]
  },
  {
   "cell_type": "code",
   "execution_count": 54,
   "id": "incomplete-aircraft",
   "metadata": {},
   "outputs": [],
   "source": [
    "# Create network plot \n",
    "G = nx.Graph()\n",
    "\n",
    "# Create connections between nodes\n",
    "for k, v in d[0].items():\n",
    "    G.add_edge(k[0], k[1], weight=(v * 10))\n",
    "\n",
    "#G.add_node(\"china\", weight=100)\n"
   ]
  },
  {
   "cell_type": "code",
   "execution_count": 55,
   "id": "promising-employer",
   "metadata": {},
   "outputs": [
    {
     "data": {
      "image/png": "[encoded data removed]",
      "text/plain": [
       "<Figure size 720x576 with 1 Axes>"
      ]
     },
     "metadata": {},
     "output_type": "display_data"
    }
   ],
   "source": [
    "fig, ax = plt.subplots(figsize=(10, 8))\n",
    "\n",
    "pos = nx.spring_layout(G, k=2)\n",
    "\n",
    "# Plot networks\n",
    "nx.draw_networkx(G, pos,\n",
    "                 font_size=16,\n",
    "                 width=3,\n",
    "                 edge_color='grey',\n",
    "                 node_color='purple',\n",
    "                 with_labels = False,\n",
    "                 ax=ax)\n",
    "\n",
    "# Create offset labels\n",
    "for key, value in pos.items():\n",
    "    x, y = value[0]+.135, value[1]+.045\n",
    "    ax.text(x, y,\n",
    "            s=key,\n",
    "            bbox=dict(facecolor='red', alpha=0.25),\n",
    "            horizontalalignment='center', fontsize=13)\n",
    "    \n",
    "plt.show()\n",
    "\n",
    "#BURAYI AL\n"
   ]
  },
  {
   "cell_type": "code",
   "execution_count": null,
   "id": "vanilla-singapore",
   "metadata": {},
   "outputs": [],
   "source": []
  },
  {
   "cell_type": "code",
   "execution_count": null,
   "id": "sophisticated-chrome",
   "metadata": {},
   "outputs": [],
   "source": []
  },
  {
   "cell_type": "code",
   "execution_count": null,
   "id": "conservative-ecology",
   "metadata": {},
   "outputs": [],
   "source": []
  }
 ],
 "metadata": {
  "kernelspec": {
   "display_name": "Python 3",
   "language": "python",
   "name": "python3"
  },
  "language_info": {
   "codemirror_mode": {
    "name": "ipython",
    "version": 3
   },
   "file_extension": ".py",
   "mimetype": "text/x-python",
   "name": "python",
   "nbconvert_exporter": "python",
   "pygments_lexer": "ipython3",
   "version": "3.7.9"
  }
 },
 "nbformat": 4,
 "nbformat_minor": 5
}
